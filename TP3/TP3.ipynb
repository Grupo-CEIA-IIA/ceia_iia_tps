{
 "cells": [
  {
   "cell_type": "markdown",
   "metadata": {},
   "source": [
    "# **TP3: Detector de SPAM (20Co2025)**\n",
    "- Bernardo Maximiliano José.\n",
    "- Tacchella Alejandro Nicolás."
   ]
  },
  {
   "cell_type": "markdown",
   "metadata": {},
   "source": [
    "Uno de los problemas más comunes en la clasificación es la detección de correos electrónicos SPAM. Uno de los primeros modelos utilizados para abordar este problema fue el clasificador de Bayes ingenuo. La detección de SPAM es un problema persistente en el mundo digital, ya que los spammers continúan adaptando sus estrategias para eludir los filtros de correo no deseado. Además del clasificador de Bayes ingenuo, se han desarrollado y utilizado una variedad de técnicas más avanzadas en la detección de SPAM, que incluyen algoritmos de aprendizaje automático, redes neuronales y métodos basados en reglas.\n",
    "\n",
    "En este trabajo práctico, utilizaremos un conjunto de datos que consta de 4601 observaciones de correos electrónicos, de los cuales 2788 son correos legítimos y 1813 son correos SPAM. Dado que el contenido de los correos electrónicos es un tipo de dato no estructurado, es necesario procesarlo de alguna manera. Para este conjunto de datos, ya se ha aplicado un procesamiento típico en el Procesamiento del Lenguaje Natural (NLP), que consiste en contar la frecuencia de palabras observadas en los correos.\n",
    "\n",
    "El procesamiento de lenguaje natural (NLP) desempeña un papel fundamental en la detección de SPAM, ya que permite analizar el contenido de los correos electrónicos y extraer características relevantes para la clasificación. Además de contar la frecuencia de palabras, se pueden utilizar técnicas más sofisticadas, como la extracción de características semánticas y el análisis de sentimientos, para mejorar la precisión de los modelos de detección de SPAM.\n",
    "\n",
    "En este proceso, se cuenta la cantidad de ocurrencias de cada palabra en los diferentes correos.\n",
    "\n",
    "Con el fin de preservar la privacidad de los mensajes, la frecuencia de palabras se encuentra normalizada. El conjunto de datos está compuesto por 54 columnas de atributos que se denominan:\n",
    "\n",
    "word_freq_XXXX: Donde XXXX es la palabra o símbolo. Los valores son enteros que van de 0 a 20k.\n",
    "Además, hay una columna adicional llamada spam, que es 1 si el correo es SPAM o 0 si no lo es.\n",
    "\n",
    "Los clasificadores de Bayes ingenuos fueron los primeros filtros utilizados por las aplicaciones de correo electrónico, basados en este principio de palabras. La idea es que, partiendo de un dato a priori sobre la probabilidad de que un correo sea SPAM o no, ciertas palabras nos indicarán que la probabilidad a posteriori, dadas esas palabras, es más probable que el correo sea SPAM o no.\n",
    "\n",
    "Tareas y preguntas a resolver:\n",
    "\n",
    "¿Cuáles son las 10 palabras más encontradas en correos con SPAM y en correos No SPAM? ¿Hay palabras en común? ¿Algunas llaman la atención?\n",
    " Separe el conjunto de datos en un conjunto de entrenamiento y un conjunto de prueba (70% y 30% respectivamente).\n",
    " Utilizando un clasificador de Bayes ingenuo, entrene con el conjunto de entrenamiento.\n",
    " Utilizando un clasificador de Regresión Logística, entrene con el conjunto de entrenamiento (en este caso, normalice los datos).\n",
    " Calcule la matriz de confusión del conjunto de evaluación para ambos modelos. ¿Qué tipo de error comete más cada modelo? ¿Cuál de los dos tipos de error crees que es más importante para este problema?\n",
    "Calcule la precisión y la recuperación de ambos modelos. Para cada métrica, ¿cuál es el mejor modelo? ¿Cómo se relacionan estas métricas con los tipos de errores analizados en el punto anterior? Expanda su respuesta.\n",
    " Obtenga la curva ROC y el AUC (Área Bajo la Curva ROC) de ambos modelos.\n",
    "El entregable consiste en uno o más archivos de notebook ipynb con las respuestas. Aunque se da libertad para usar otros tipos de entregables, es importante incluir tanto el código de lo resuelto como las respuestas. Pueden subir el contenido o proporcionar un enlace a un repositorio público (GitHub o GitLab) con el contenido. No olviden especificar los autores del TP en el entregable."
   ]
  },
  {
   "cell_type": "markdown",
   "metadata": {},
   "source": [
    "### **Resolución**"
   ]
  },
  {
   "cell_type": "markdown",
   "metadata": {},
   "source": [
    "#### **Instalación de dependencias**"
   ]
  },
  {
   "cell_type": "code",
   "execution_count": 2,
   "metadata": {},
   "outputs": [
    {
     "name": "stdout",
     "output_type": "stream",
     "text": [
      "Requirement already satisfied: numpy in c:\\users\\mbernardo\\desktop\\postgrado\\ia\\ceia_iia_tps\\env\\lib\\site-packages (from -r requirements.txt (line 1)) (2.0.2)\n",
      "Requirement already satisfied: matplotlib in c:\\users\\mbernardo\\desktop\\postgrado\\ia\\ceia_iia_tps\\env\\lib\\site-packages (from -r requirements.txt (line 2)) (3.9.4)\n",
      "Requirement already satisfied: scikit-learn in c:\\users\\mbernardo\\desktop\\postgrado\\ia\\ceia_iia_tps\\env\\lib\\site-packages (from -r requirements.txt (line 3)) (1.6.1)\n",
      "Requirement already satisfied: seaborn in c:\\users\\mbernardo\\desktop\\postgrado\\ia\\ceia_iia_tps\\env\\lib\\site-packages (from -r requirements.txt (line 4)) (0.13.2)\n",
      "Requirement already satisfied: sciPy in c:\\users\\mbernardo\\desktop\\postgrado\\ia\\ceia_iia_tps\\env\\lib\\site-packages (from -r requirements.txt (line 5)) (1.13.1)\n",
      "Requirement already satisfied: pandas in c:\\users\\mbernardo\\desktop\\postgrado\\ia\\ceia_iia_tps\\env\\lib\\site-packages (from -r requirements.txt (line 6)) (2.2.3)\n",
      "Requirement already satisfied: contourpy>=1.0.1 in c:\\users\\mbernardo\\desktop\\postgrado\\ia\\ceia_iia_tps\\env\\lib\\site-packages (from matplotlib->-r requirements.txt (line 2)) (1.3.0)\n",
      "Requirement already satisfied: packaging>=20.0 in c:\\users\\mbernardo\\desktop\\postgrado\\ia\\ceia_iia_tps\\env\\lib\\site-packages (from matplotlib->-r requirements.txt (line 2)) (24.2)\n",
      "Requirement already satisfied: fonttools>=4.22.0 in c:\\users\\mbernardo\\desktop\\postgrado\\ia\\ceia_iia_tps\\env\\lib\\site-packages (from matplotlib->-r requirements.txt (line 2)) (4.57.0)\n",
      "Requirement already satisfied: pillow>=8 in c:\\users\\mbernardo\\desktop\\postgrado\\ia\\ceia_iia_tps\\env\\lib\\site-packages (from matplotlib->-r requirements.txt (line 2)) (11.1.0)\n",
      "Requirement already satisfied: pyparsing>=2.3.1 in c:\\users\\mbernardo\\desktop\\postgrado\\ia\\ceia_iia_tps\\env\\lib\\site-packages (from matplotlib->-r requirements.txt (line 2)) (3.2.3)\n",
      "Requirement already satisfied: kiwisolver>=1.3.1 in c:\\users\\mbernardo\\desktop\\postgrado\\ia\\ceia_iia_tps\\env\\lib\\site-packages (from matplotlib->-r requirements.txt (line 2)) (1.4.7)\n",
      "Requirement already satisfied: python-dateutil>=2.7 in c:\\users\\mbernardo\\desktop\\postgrado\\ia\\ceia_iia_tps\\env\\lib\\site-packages (from matplotlib->-r requirements.txt (line 2)) (2.9.0.post0)\n",
      "Requirement already satisfied: importlib-resources>=3.2.0; python_version < \"3.10\" in c:\\users\\mbernardo\\desktop\\postgrado\\ia\\ceia_iia_tps\\env\\lib\\site-packages (from matplotlib->-r requirements.txt (line 2)) (6.5.2)\n",
      "Requirement already satisfied: cycler>=0.10 in c:\\users\\mbernardo\\desktop\\postgrado\\ia\\ceia_iia_tps\\env\\lib\\site-packages (from matplotlib->-r requirements.txt (line 2)) (0.12.1)\n",
      "Requirement already satisfied: joblib>=1.2.0 in c:\\users\\mbernardo\\desktop\\postgrado\\ia\\ceia_iia_tps\\env\\lib\\site-packages (from scikit-learn->-r requirements.txt (line 3)) (1.4.2)\n",
      "Requirement already satisfied: threadpoolctl>=3.1.0 in c:\\users\\mbernardo\\desktop\\postgrado\\ia\\ceia_iia_tps\\env\\lib\\site-packages (from scikit-learn->-r requirements.txt (line 3)) (3.6.0)\n",
      "Requirement already satisfied: pytz>=2020.1 in c:\\users\\mbernardo\\desktop\\postgrado\\ia\\ceia_iia_tps\\env\\lib\\site-packages (from pandas->-r requirements.txt (line 6)) (2025.2)\n",
      "Requirement already satisfied: tzdata>=2022.7 in c:\\users\\mbernardo\\desktop\\postgrado\\ia\\ceia_iia_tps\\env\\lib\\site-packages (from pandas->-r requirements.txt (line 6)) (2025.2)\n",
      "Requirement already satisfied: six>=1.5 in c:\\users\\mbernardo\\desktop\\postgrado\\ia\\ceia_iia_tps\\env\\lib\\site-packages (from python-dateutil>=2.7->matplotlib->-r requirements.txt (line 2)) (1.17.0)\n",
      "Requirement already satisfied: zipp>=3.1.0; python_version < \"3.10\" in c:\\users\\mbernardo\\desktop\\postgrado\\ia\\ceia_iia_tps\\env\\lib\\site-packages (from importlib-resources>=3.2.0; python_version < \"3.10\"->matplotlib->-r requirements.txt (line 2)) (3.21.0)\n",
      "Note: you may need to restart the kernel to use updated packages.\n"
     ]
    },
    {
     "name": "stderr",
     "output_type": "stream",
     "text": [
      "WARNING: You are using pip version 20.2.3; however, version 25.0.1 is available.\n",
      "You should consider upgrading via the 'c:\\Users\\mbernardo\\Desktop\\postgrado\\IA\\ceia_iia_tps\\env\\Scripts\\python.exe -m pip install --upgrade pip' command.\n"
     ]
    }
   ],
   "source": [
    "pip install -r requirements.txt"
   ]
  },
  {
   "cell_type": "markdown",
   "metadata": {},
   "source": [
    "#### **Importación de bibliotecas**"
   ]
  },
  {
   "cell_type": "code",
   "execution_count": 2,
   "metadata": {},
   "outputs": [],
   "source": [
    "import pandas as pd\n",
    "import numpy as np\n",
    "import matplotlib.pyplot as plt\n",
    "import seaborn as sns\n",
    "\n",
    "from sklearn.datasets import fetch_california_housing\n",
    "from sklearn.model_selection import train_test_split, cross_val_score\n",
    "from sklearn.preprocessing import StandardScaler\n",
    "from sklearn.metrics import r2_score, mean_absolute_error, mean_squared_error\n",
    "\n",
    "from sklearn.linear_model import LinearRegression, Ridge"
   ]
  },
  {
   "cell_type": "markdown",
   "metadata": {},
   "source": [
    "#### **Lectura del dataset**"
   ]
  }
 ],
 "metadata": {
  "kernelspec": {
   "display_name": "env",
   "language": "python",
   "name": "python3"
  },
  "language_info": {
   "codemirror_mode": {
    "name": "ipython",
    "version": 3
   },
   "file_extension": ".py",
   "mimetype": "text/x-python",
   "name": "python",
   "nbconvert_exporter": "python",
   "pygments_lexer": "ipython3",
   "version": "3.9.0"
  }
 },
 "nbformat": 4,
 "nbformat_minor": 2
}
