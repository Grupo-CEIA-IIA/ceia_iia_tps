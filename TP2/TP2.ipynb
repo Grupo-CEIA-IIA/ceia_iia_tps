{
 "cells": [
  {
   "cell_type": "markdown",
   "metadata": {},
   "source": [
    "# TP2: Regresión del valor de valor medio de casas en distritos de California (20Co2025)\n",
    "**Integrantes:**\n",
    "- Bernardo Maximiliano José.\n",
    "- Tacchella Alejandro Nicolás."
   ]
  },
  {
   "cell_type": "markdown",
   "metadata": {},
   "source": [
    "Se requiere construir una regresión que permita predecir el valor medio de las casas en distritos de California, EE. UU. (medido en cientos de miles de dólares, es decir, $100,000). Este conjunto de datos proviene del censo de 1990 de EE. UU., donde cada observación corresponde a un bloque. Un bloque es la unidad geográfica más pequeña para la cual la Oficina del Censo de EE. UU. publica datos de muestra. Un bloque típicamente tiene una población de entre 600 y 3.000 personas.\n",
    "\n",
    "Los atributos, en el orden en que se encuentran en el conjunto de datos, son:\n",
    "\n",
    "MedInc: Ingreso medio en el bloque\n",
    "HouseAge: Edad mediana de las casas en el bloque\n",
    "AveRooms: Número promedio de habitaciones por hogar.\n",
    "AveBedrms: Número promedio de dormitorios por hogar.\n",
    "Population: Población del bloque\n",
    "AveOccup: Número promedio de miembros por hogar.\n",
    "Latitude: Latitud del bloque\n",
    "Longitude: Longitud del bloque\n",
    "El target es:\n",
    "\n",
    "MedHouseVal: Mediana del costo de las casas en el bloque (en unidades de $100,000).\n",
    "Tareas y preguntas a resolver:\n",
    "\n",
    "Obtener la correlación entre los atributos y entre los atributos y el target. ¿Qué atributo tiene mayor correlación lineal con el target? ¿Cuáles atributos parecen estar más correlacionados entre sí? Se pueden obtener los valores de correlación o graficarlos directamente utilizando un mapa de calor.\n",
    "Graficar los histogramas de los diferentes atributos y el target. ¿Qué tipo de forma tienen los histogramas? ¿Se observa alguna forma de campana que sugiera que los datos provienen de una distribución gaussiana, sin realizar pruebas de hipótesis?\n",
    "Calcular la regresión lineal utilizando todos los atributos. Con el conjunto de entrenamiento, calcular la varianza total del modelo y la varianza explicada por el modelo. ¿Está el modelo capturando el comportamiento del target? Expanda su respuesta.\n",
    "Calcular las métricas de MSE, MAE y R² para el conjunto de evaluación.\n",
    "Crear una regresión de Ridge. Usando validación cruzada de 5 folds y tomando como métrica el MSE, calcular el mejor valor de α, buscando entre [0, 12.5]. Graficar el valor de MSE versus α.\n",
    "Comparar entre la regresión lineal y la mejor regresión de Ridge los resultados obtenidos en el conjunto de evaluación. ¿Cuál de los dos modelos da mejores resultados (usando MSE y MAE)? Conjeturar por qué el modelo que da mejores resultados mejora. ¿Qué error se puede haber reducido?\n"
   ]
  }
 ],
 "metadata": {
  "language_info": {
   "name": "python"
  }
 },
 "nbformat": 4,
 "nbformat_minor": 2
}
