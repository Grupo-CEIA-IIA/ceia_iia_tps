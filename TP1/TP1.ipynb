{
 "cells": [
  {
   "cell_type": "markdown",
   "id": "7b35d13e",
   "metadata": {},
   "source": [
    "1) ¿Cuáles son los PEAS de este problema? (Performance, Environment, Actuators, Sensors)\n",
    "\n",
    "Los PEAS del problema son:\n",
    "\n",
    "| Agente           | Performance        | Environment | Actuators       | Sensors              |\n",
    "|:----------------:|:------------------:|:-----------:|:---------------:|:--------------------:|\n",
    "| Robot jugando a  | cantidad de discos | torres,     | brazo que mueve | vision de la posicion| \n",
    "| la Torre de hanoi| bien ubicados      | discos      | los discos      | actual de los discos |\n"
   ]
  },
  {
   "cell_type": "markdown",
   "id": "1630fbb6",
   "metadata": {},
   "source": [
    "2) ¿Cuáles son las propiedades del entorno de trabajo?\n",
    "\n",
    "Las propiedades del entorno de trabajo son:\n",
    "- Es un problema totalmente observable.\n",
    "- Es un sistema determinista\n",
    "- Es secuencial\n",
    "- Es un sistema estatico\n",
    "- Es un sistema discreto\n",
    "- Es un agente individual\n"
   ]
  },
  {
   "cell_type": "markdown",
   "id": "7a961453",
   "metadata": {},
   "source": [
    "3) En el contexto de este problema, establezca cuáles son los: estado, espacio de estados, árbol de búsqueda, nodo de búsqueda, objetivo, acción y frontera.\n"
   ]
  },
  {
   "cell_type": "markdown",
   "id": "d89353cf",
   "metadata": {},
   "source": [
    "4) Implemente algún método de búsqueda. Puedes elegir cualquiera menos búsqueda en anchura primero (el desarrollado en clase). Sos libre de elegir cualquiera de los vistos en clases, o inclusive buscar nuevos.\n"
   ]
  },
  {
   "cell_type": "markdown",
   "id": "dd8ffb38",
   "metadata": {},
   "source": [
    "5) ¿Qué complejidad en tiempo y memoria teórica tiene el algoritmo elegido? \n"
   ]
  },
  {
   "cell_type": "markdown",
   "id": "3f2f5eac",
   "metadata": {},
   "source": [
    "6) A nivel implementación, ¿qué tiempo y memoria ocupa el algoritmo? (Se recomienda correr 10 veces y calcular promedio y desvío estándar de las métricas).\n"
   ]
  },
  {
   "cell_type": "markdown",
   "id": "9e05ca56",
   "metadata": {},
   "source": [
    "7) Si la solución óptima es 2k -1 movimientos con k igual al número de discos. Qué tan lejos está la solución del algoritmo implementado de esta solución óptima (se recomienda correr al menos 10 veces y usar el promedio de trayecto usado)."
   ]
  }
 ],
 "metadata": {
  "kernelspec": {
   "display_name": "env",
   "language": "python",
   "name": "python3"
  },
  "language_info": {
   "codemirror_mode": {
    "name": "ipython",
    "version": 3
   },
   "file_extension": ".py",
   "mimetype": "text/x-python",
   "name": "python",
   "nbconvert_exporter": "python",
   "pygments_lexer": "ipython3",
   "version": "3.9.0"
  }
 },
 "nbformat": 4,
 "nbformat_minor": 5
}
