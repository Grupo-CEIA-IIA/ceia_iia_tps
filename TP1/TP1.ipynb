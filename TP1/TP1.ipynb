{
 "cells": [
  {
   "cell_type": "markdown",
   "id": "f83340ce",
   "metadata": {},
   "source": [
    "# TP1: Algoritmos de búsqueda en Torre de Hanoi (20Co2025)\n",
    "**Integrantes:**\n",
    "- Bernardo Maximiliano José.\n",
    "- Tacchella Alejandro Nicolás."
   ]
  },
  {
   "cell_type": "markdown",
   "id": "7b35d13e",
   "metadata": {},
   "source": [
    "1) ¿Cuáles son los PEAS de este problema? (Performance, Environment, Actuators, Sensors)\n",
    "\n",
    "Los PEAS del problema son:\n",
    "\n",
    "| Agente           | Performance                | Environment       | Actuators                  | Sensors                        |\n",
    "|:----------------:|:--------------------------:|:-----------------:|:--------------------------:|:-----------------------------:|\n",
    "| Robot jugando a<br/>la Torre de Hanoi | Cantidad de discos<br/>bien ubicados | Torres, discos | Brazo que mueve<br/>los discos | Visión de la posición<br/>actual de los discos |"
   ]
  },
  {
   "cell_type": "markdown",
   "id": "1630fbb6",
   "metadata": {},
   "source": [
    "2) ¿Cuáles son las propiedades del entorno de trabajo?\n",
    "\n",
    "Las propiedades del entorno de trabajo son:\n",
    "- Es un problema totalmente observable.\n",
    "- Es un sistema determinista.\n",
    "- Es episódico.\n",
    "- Es un sistema estatico.\n",
    "- Es un sistema discreto.\n",
    "- Es un agente individual."
   ]
  },
  {
   "cell_type": "markdown",
   "id": "7a961453",
   "metadata": {},
   "source": [
    "3) En el contexto de este problema, establezca cuáles son los: estado, espacio de estados, árbol de búsqueda, nodo de búsqueda, objetivo, acción y frontera.\n",
    "\n",
    "**Estado:** Un estado está definido por la posición en que se encuentran los discos de la Torre de Hanoi en las tres varillas posibles en las que pueden estar colocados. Teniendo en cuenta la restricción que ningún disco estará colocado encima de un disco que sea más pequeño que él.\n",
    "\n",
    "**Espacio de estados:** Son todos los estados posibles según la definición previa de estado.\n",
    "\n",
    "**Nodo de búsqueda:** Representa un estado alcanzado al recorrer el árbol de búsqueda.\n",
    "\n",
    "**Objetivo:** Mover todos los discos desde una torre hasta otra de cualquiera de las dos posibles.\n",
    "\n",
    "**Acción:** Representa un movimiento válido para pasar de un estado a otro dentro del espacio de estados. Siendo un movimiento válido aquel que cumpla con:\n",
    "1. Sólo se puede mover un disco a la vez.\n",
    "2. Cada movimiento consiste en coger el disco superior de una de las pilas y colocarlo encima de otra pila o sobre una varilla vacía.\n",
    "\n",
    "**Frontera:** Representa los dos estados posibles que se pueden alcanzar aplicando una acción sobre un estado.\n",
    "\n",
    "**Árbol de búsqueda:** Es el recorrido obtenido de comenzar en un estado inicial y aplicar N acciones hasta llegar al estado objetivo."
   ]
  },
  {
   "cell_type": "markdown",
   "id": "d89353cf",
   "metadata": {},
   "source": [
    "4) Implemente algún método de búsqueda. Puedes elegir cualquiera menos búsqueda en anchura primero (el desarrollado en clase). Sos libre de elegir cualquiera de los vistos en clases, o inclusive buscar nuevos.\n",
    "\n",
    "Usamos el codigo visto en clase como base e implementamos el algoritmo de busqueda en profundidad en el archivo busqueda_en_profundidad.py dentro de este repositorio."
   ]
  },
  {
   "cell_type": "markdown",
   "id": "dd8ffb38",
   "metadata": {},
   "source": [
    "5) ¿Qué complejidad en tiempo y memoria teórica tiene el algoritmo elegido? \n",
    "\n",
    "El algoritmo elegido tiene una complejidad en memoria de $O(b*m)$, siendo cada parámetro:\n",
    "- b: el factor de ramificación, es decir, cuántos hijos puede tener un nodo.\n",
    "- m es la profundidad máxima del árbol de búsqueda.\n",
    "\n",
    "Y tiene una complejidad temporal de $O(V+E)$, siendo cada parámetro:\n",
    "- V es el número estados.\n",
    "- E es el número de transiciones entre estados.\n"
   ]
  },
  {
   "cell_type": "markdown",
   "id": "3f2f5eac",
   "metadata": {},
   "source": [
    "6) A nivel implementación, ¿qué tiempo y memoria ocupa el algoritmo? (Se recomienda correr 10 veces y calcular promedio y desvío estándar de las métricas).\n",
    "\n"
   ]
  },
  {
   "cell_type": "markdown",
   "id": "448bff32",
   "metadata": {},
   "source": [
    "Instalamos las dependencias necesarias para la ejecución del código y la medición de las métricas."
   ]
  },
  {
   "cell_type": "code",
   "execution_count": 1,
   "id": "2d51403a",
   "metadata": {},
   "outputs": [
    {
     "name": "stdout",
     "output_type": "stream",
     "text": [
      "Requirement already satisfied: ipykernel in /opt/anaconda3/envs/ceia_iia_env/lib/python3.12/site-packages (from -r requirements.txt (line 1)) (6.29.5)\n",
      "Requirement already satisfied: numpy in /opt/anaconda3/envs/ceia_iia_env/lib/python3.12/site-packages (from -r requirements.txt (line 2)) (2.2.1)\n",
      "Requirement already satisfied: matplotlib in /opt/anaconda3/envs/ceia_iia_env/lib/python3.12/site-packages (from -r requirements.txt (line 3)) (3.10.0)\n",
      "Requirement already satisfied: pygame in /opt/anaconda3/envs/ceia_iia_env/lib/python3.12/site-packages (from -r requirements.txt (line 4)) (2.6.1)\n",
      "Requirement already satisfied: vizdoom in /opt/anaconda3/envs/ceia_iia_env/lib/python3.12/site-packages (from -r requirements.txt (line 5)) (1.2.4)\n",
      "Requirement already satisfied: scikit-learn in /opt/anaconda3/envs/ceia_iia_env/lib/python3.12/site-packages (from -r requirements.txt (line 6)) (1.6.1)\n",
      "Requirement already satisfied: seaborn in /opt/anaconda3/envs/ceia_iia_env/lib/python3.12/site-packages (from -r requirements.txt (line 7)) (0.13.2)\n",
      "Requirement already satisfied: sciPy in /opt/anaconda3/envs/ceia_iia_env/lib/python3.12/site-packages (from -r requirements.txt (line 8)) (1.15.1)\n",
      "Requirement already satisfied: pandas in /opt/anaconda3/envs/ceia_iia_env/lib/python3.12/site-packages (from -r requirements.txt (line 10)) (2.2.3)\n",
      "Requirement already satisfied: appnope in /opt/anaconda3/envs/ceia_iia_env/lib/python3.12/site-packages (from ipykernel->-r requirements.txt (line 1)) (0.1.4)\n",
      "Requirement already satisfied: comm>=0.1.1 in /opt/anaconda3/envs/ceia_iia_env/lib/python3.12/site-packages (from ipykernel->-r requirements.txt (line 1)) (0.2.2)\n",
      "Requirement already satisfied: debugpy>=1.6.5 in /opt/anaconda3/envs/ceia_iia_env/lib/python3.12/site-packages (from ipykernel->-r requirements.txt (line 1)) (1.8.11)\n",
      "Requirement already satisfied: ipython>=7.23.1 in /opt/anaconda3/envs/ceia_iia_env/lib/python3.12/site-packages (from ipykernel->-r requirements.txt (line 1)) (8.31.0)\n",
      "Requirement already satisfied: jupyter-client>=6.1.12 in /opt/anaconda3/envs/ceia_iia_env/lib/python3.12/site-packages (from ipykernel->-r requirements.txt (line 1)) (8.6.3)\n",
      "Requirement already satisfied: jupyter-core!=5.0.*,>=4.12 in /opt/anaconda3/envs/ceia_iia_env/lib/python3.12/site-packages (from ipykernel->-r requirements.txt (line 1)) (5.7.2)\n",
      "Requirement already satisfied: matplotlib-inline>=0.1 in /opt/anaconda3/envs/ceia_iia_env/lib/python3.12/site-packages (from ipykernel->-r requirements.txt (line 1)) (0.1.7)\n",
      "Requirement already satisfied: nest-asyncio in /opt/anaconda3/envs/ceia_iia_env/lib/python3.12/site-packages (from ipykernel->-r requirements.txt (line 1)) (1.6.0)\n",
      "Requirement already satisfied: packaging in /opt/anaconda3/envs/ceia_iia_env/lib/python3.12/site-packages (from ipykernel->-r requirements.txt (line 1)) (24.2)\n",
      "Requirement already satisfied: psutil in /opt/anaconda3/envs/ceia_iia_env/lib/python3.12/site-packages (from ipykernel->-r requirements.txt (line 1)) (6.1.1)\n",
      "Requirement already satisfied: pyzmq>=24 in /opt/anaconda3/envs/ceia_iia_env/lib/python3.12/site-packages (from ipykernel->-r requirements.txt (line 1)) (26.2.0)\n",
      "Requirement already satisfied: tornado>=6.1 in /opt/anaconda3/envs/ceia_iia_env/lib/python3.12/site-packages (from ipykernel->-r requirements.txt (line 1)) (6.4.2)\n",
      "Requirement already satisfied: traitlets>=5.4.0 in /opt/anaconda3/envs/ceia_iia_env/lib/python3.12/site-packages (from ipykernel->-r requirements.txt (line 1)) (5.14.3)\n",
      "Requirement already satisfied: contourpy>=1.0.1 in /opt/anaconda3/envs/ceia_iia_env/lib/python3.12/site-packages (from matplotlib->-r requirements.txt (line 3)) (1.3.1)\n",
      "Requirement already satisfied: cycler>=0.10 in /opt/anaconda3/envs/ceia_iia_env/lib/python3.12/site-packages (from matplotlib->-r requirements.txt (line 3)) (0.12.1)\n",
      "Requirement already satisfied: fonttools>=4.22.0 in /opt/anaconda3/envs/ceia_iia_env/lib/python3.12/site-packages (from matplotlib->-r requirements.txt (line 3)) (4.55.3)\n",
      "Requirement already satisfied: kiwisolver>=1.3.1 in /opt/anaconda3/envs/ceia_iia_env/lib/python3.12/site-packages (from matplotlib->-r requirements.txt (line 3)) (1.4.7)\n",
      "Requirement already satisfied: pillow>=8 in /opt/anaconda3/envs/ceia_iia_env/lib/python3.12/site-packages (from matplotlib->-r requirements.txt (line 3)) (11.1.0)\n",
      "Requirement already satisfied: pyparsing>=2.3.1 in /opt/anaconda3/envs/ceia_iia_env/lib/python3.12/site-packages (from matplotlib->-r requirements.txt (line 3)) (3.2.1)\n",
      "Requirement already satisfied: python-dateutil>=2.7 in /opt/anaconda3/envs/ceia_iia_env/lib/python3.12/site-packages (from matplotlib->-r requirements.txt (line 3)) (2.9.0.post0)\n",
      "Requirement already satisfied: gymnasium>=0.28.0 in /opt/anaconda3/envs/ceia_iia_env/lib/python3.12/site-packages (from vizdoom->-r requirements.txt (line 5)) (1.1.1)\n",
      "Requirement already satisfied: joblib>=1.2.0 in /opt/anaconda3/envs/ceia_iia_env/lib/python3.12/site-packages (from scikit-learn->-r requirements.txt (line 6)) (1.4.2)\n",
      "Requirement already satisfied: threadpoolctl>=3.1.0 in /opt/anaconda3/envs/ceia_iia_env/lib/python3.12/site-packages (from scikit-learn->-r requirements.txt (line 6)) (3.5.0)\n",
      "Requirement already satisfied: pytz>=2020.1 in /opt/anaconda3/envs/ceia_iia_env/lib/python3.12/site-packages (from pandas->-r requirements.txt (line 10)) (2024.1)\n",
      "Requirement already satisfied: tzdata>=2022.7 in /opt/anaconda3/envs/ceia_iia_env/lib/python3.12/site-packages (from pandas->-r requirements.txt (line 10)) (2024.2)\n",
      "Requirement already satisfied: cloudpickle>=1.2.0 in /opt/anaconda3/envs/ceia_iia_env/lib/python3.12/site-packages (from gymnasium>=0.28.0->vizdoom->-r requirements.txt (line 5)) (3.1.1)\n",
      "Requirement already satisfied: typing-extensions>=4.3.0 in /opt/anaconda3/envs/ceia_iia_env/lib/python3.12/site-packages (from gymnasium>=0.28.0->vizdoom->-r requirements.txt (line 5)) (4.12.2)\n",
      "Requirement already satisfied: farama-notifications>=0.0.1 in /opt/anaconda3/envs/ceia_iia_env/lib/python3.12/site-packages (from gymnasium>=0.28.0->vizdoom->-r requirements.txt (line 5)) (0.0.4)\n",
      "Requirement already satisfied: decorator in /opt/anaconda3/envs/ceia_iia_env/lib/python3.12/site-packages (from ipython>=7.23.1->ipykernel->-r requirements.txt (line 1)) (5.1.1)\n",
      "Requirement already satisfied: jedi>=0.16 in /opt/anaconda3/envs/ceia_iia_env/lib/python3.12/site-packages (from ipython>=7.23.1->ipykernel->-r requirements.txt (line 1)) (0.19.2)\n",
      "Requirement already satisfied: pexpect>4.3 in /opt/anaconda3/envs/ceia_iia_env/lib/python3.12/site-packages (from ipython>=7.23.1->ipykernel->-r requirements.txt (line 1)) (4.9.0)\n",
      "Requirement already satisfied: prompt_toolkit<3.1.0,>=3.0.41 in /opt/anaconda3/envs/ceia_iia_env/lib/python3.12/site-packages (from ipython>=7.23.1->ipykernel->-r requirements.txt (line 1)) (3.0.48)\n",
      "Requirement already satisfied: pygments>=2.4.0 in /opt/anaconda3/envs/ceia_iia_env/lib/python3.12/site-packages (from ipython>=7.23.1->ipykernel->-r requirements.txt (line 1)) (2.19.1)\n",
      "Requirement already satisfied: stack_data in /opt/anaconda3/envs/ceia_iia_env/lib/python3.12/site-packages (from ipython>=7.23.1->ipykernel->-r requirements.txt (line 1)) (0.6.3)\n",
      "Requirement already satisfied: platformdirs>=2.5 in /opt/anaconda3/envs/ceia_iia_env/lib/python3.12/site-packages (from jupyter-core!=5.0.*,>=4.12->ipykernel->-r requirements.txt (line 1)) (4.3.6)\n",
      "Requirement already satisfied: six>=1.5 in /opt/anaconda3/envs/ceia_iia_env/lib/python3.12/site-packages (from python-dateutil>=2.7->matplotlib->-r requirements.txt (line 3)) (1.17.0)\n",
      "Requirement already satisfied: parso<0.9.0,>=0.8.4 in /opt/anaconda3/envs/ceia_iia_env/lib/python3.12/site-packages (from jedi>=0.16->ipython>=7.23.1->ipykernel->-r requirements.txt (line 1)) (0.8.4)\n",
      "Requirement already satisfied: ptyprocess>=0.5 in /opt/anaconda3/envs/ceia_iia_env/lib/python3.12/site-packages (from pexpect>4.3->ipython>=7.23.1->ipykernel->-r requirements.txt (line 1)) (0.7.0)\n",
      "Requirement already satisfied: wcwidth in /opt/anaconda3/envs/ceia_iia_env/lib/python3.12/site-packages (from prompt_toolkit<3.1.0,>=3.0.41->ipython>=7.23.1->ipykernel->-r requirements.txt (line 1)) (0.2.13)\n",
      "Requirement already satisfied: executing>=1.2.0 in /opt/anaconda3/envs/ceia_iia_env/lib/python3.12/site-packages (from stack_data->ipython>=7.23.1->ipykernel->-r requirements.txt (line 1)) (2.1.0)\n",
      "Requirement already satisfied: asttokens>=2.1.0 in /opt/anaconda3/envs/ceia_iia_env/lib/python3.12/site-packages (from stack_data->ipython>=7.23.1->ipykernel->-r requirements.txt (line 1)) (3.0.0)\n",
      "Requirement already satisfied: pure_eval in /opt/anaconda3/envs/ceia_iia_env/lib/python3.12/site-packages (from stack_data->ipython>=7.23.1->ipykernel->-r requirements.txt (line 1)) (0.2.3)\n",
      "Note: you may need to restart the kernel to use updated packages.\n"
     ]
    }
   ],
   "source": [
    "pip install -r requirements.txt"
   ]
  },
  {
   "cell_type": "code",
   "execution_count": 2,
   "id": "3db44e6f",
   "metadata": {},
   "outputs": [],
   "source": [
    "# Importamos la función que ejecuta la búsqueda en profundidad para usarla en próximas celdas\n",
    "from busqueda_en_profundidad import depth_first_search"
   ]
  },
  {
   "cell_type": "code",
   "execution_count": 3,
   "id": "d0eae2f3",
   "metadata": {},
   "outputs": [
    {
     "name": "stdout",
     "output_type": "stream",
     "text": [
      "4.61 ms ± 293 μs per loop (mean ± std. dev. of 10 runs, 1 loop each)\n"
     ]
    }
   ],
   "source": [
    "# Realizamos 10 ejecuciones obteniendo el promedio y desviación estándar del tiempo de ejecución\n",
    "%timeit -r 10 -n 1 solution, metrics = depth_first_search(number_disks=5)"
   ]
  },
  {
   "cell_type": "code",
   "execution_count": 4,
   "id": "37a80a0b",
   "metadata": {},
   "outputs": [
    {
     "name": "stdout",
     "output_type": "stream",
     "text": [
      "Promedio: 204.94 KB ± 3.63 KB (mínimo: 203.73 KB)\n"
     ]
    }
   ],
   "source": [
    "import tracemalloc\n",
    "import statistics\n",
    "\n",
    "def function():\n",
    "    tracemalloc.start()\n",
    "\n",
    "    solution, metrics = depth_first_search(number_disks=5)\n",
    "\n",
    "    _, memory_peak = tracemalloc.get_traced_memory()\n",
    "    tracemalloc.stop()\n",
    "\n",
    "    return memory_peak / 1024  # Convertir a KB\n",
    "\n",
    "# Realizamos 10 ejecuciones\n",
    "results = [function() for _ in range(10)]\n",
    "\n",
    "# Calcular promedio y desviación estándar\n",
    "avg_mem = statistics.mean(results)\n",
    "std_mem = statistics.stdev(results)\n",
    "min_mem = min(results)\n",
    "\n",
    "print(f\"Promedio: {avg_mem:.2f} KB ± {std_mem:.2f} KB (mínimo: {min_mem:.2f} KB)\")"
   ]
  },
  {
   "cell_type": "markdown",
   "id": "9e05ca56",
   "metadata": {},
   "source": [
    "7) Si la solución óptima es $2^k -1$ movimientos con k igual al número de discos. Qué tan lejos está la solución del algoritmo implementado de esta solución óptima (se recomienda correr al menos 10 veces y usar el promedio de trayecto usado)."
   ]
  },
  {
   "cell_type": "code",
   "execution_count": 5,
   "id": "d18c20c6",
   "metadata": {},
   "outputs": [
    {
     "name": "stdout",
     "output_type": "stream",
     "text": [
      "Solucion optima: 31 movimientos\n",
      "Solucion encontrada con busqueda en profundidad: 121\n",
      "La solución encontrada se encuentra a 90 movimientos de la solución óptima\n"
     ]
    }
   ],
   "source": [
    "solution, metrics = depth_first_search(number_disks=5)\n",
    "mov_sol_optima = 2**5-1\n",
    "movimientos = int(metrics.get(\"cost_total\"))\n",
    "print(f\"Solucion optima: {mov_sol_optima} movimientos\")\n",
    "print(f\"Solucion encontrada con busqueda en profundidad: {movimientos}\")\n",
    "print(f\"La solución encontrada se encuentra a {movimientos - mov_sol_optima} movimientos de la solución óptima\")"
   ]
  },
  {
   "cell_type": "markdown",
   "id": "59a3d4e0",
   "metadata": {},
   "source": [
    "Adicionalmente se agrega en la siguiente celda la generación de los archivos initial_state.json y sequence.json para usar de entrada en el simulador que se encuentra en el directorio simulator de este repositorio."
   ]
  },
  {
   "cell_type": "code",
   "execution_count": 6,
   "id": "abcd0372",
   "metadata": {},
   "outputs": [],
   "source": [
    "solution, metrics = depth_first_search(number_disks=5)\n",
    "solution.generate_solution_for_simulator()"
   ]
  }
 ],
 "metadata": {
  "kernelspec": {
   "display_name": "ceia_iia_env",
   "language": "python",
   "name": "python3"
  },
  "language_info": {
   "codemirror_mode": {
    "name": "ipython",
    "version": 3
   },
   "file_extension": ".py",
   "mimetype": "text/x-python",
   "name": "python",
   "nbconvert_exporter": "python",
   "pygments_lexer": "ipython3",
   "version": "3.12.2"
  }
 },
 "nbformat": 4,
 "nbformat_minor": 5
}
